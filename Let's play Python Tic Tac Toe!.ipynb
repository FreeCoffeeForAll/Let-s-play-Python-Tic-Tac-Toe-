{
 "cells": [
  {
   "cell_type": "code",
   "execution_count": null,
   "id": "9c6bfab5",
   "metadata": {},
   "outputs": [],
   "source": [
    "from IPython.display import clear_output\n",
    "\n",
    "def display_board(board):\n",
    "        clear_output()\n",
    "        print(board[7]+'|'+board[8]+'|'+board[9])\n",
    "        print(board[4]+'|'+board[5]+'|'+board[6])\n",
    "        print(board[1]+'|'+board[2]+'|'+board[3])"
   ]
  },
  {
   "cell_type": "code",
   "execution_count": null,
   "id": "42750553",
   "metadata": {},
   "outputs": [],
   "source": [
    "test_board = ['#','X','O','X','O','X','O','X','O','X']\n",
    "display_board(test_board)"
   ]
  },
  {
   "cell_type": "code",
   "execution_count": null,
   "id": "ac0ccfa6",
   "metadata": {},
   "outputs": [],
   "source": [
    "def player_input():\n",
    "    '''\n",
    "    OUTPUT = (Player 1 marker, Player 2 marker)\n",
    "    '''\n",
    "    \n",
    "    marker = ''\n",
    "    while marker != 'X' and marker != 'O':\n",
    "        marker = input('Player 1: Choose X or O: ').upper()\n",
    "    \n",
    "    if marker == 'X':\n",
    "        \n",
    "        return('X','O')\n",
    "    \n",
    "    else:\n",
    "        \n",
    "        return ('O','X')"
   ]
  },
  {
   "cell_type": "code",
   "execution_count": null,
   "id": "cfd9f638",
   "metadata": {},
   "outputs": [],
   "source": [
    "player1_marker , player2_marker = player_input()"
   ]
  },
  {
   "cell_type": "code",
   "execution_count": null,
   "id": "e46cd911",
   "metadata": {},
   "outputs": [],
   "source": [
    "player2_marker"
   ]
  },
  {
   "cell_type": "code",
   "execution_count": null,
   "id": "74e0ae08",
   "metadata": {},
   "outputs": [],
   "source": [
    "def place_marker(board, marker, position):\n",
    "    \n",
    "    board[position] = marker"
   ]
  },
  {
   "cell_type": "code",
   "execution_count": null,
   "id": "0ad585cb",
   "metadata": {},
   "outputs": [],
   "source": [
    "test_board"
   ]
  },
  {
   "cell_type": "code",
   "execution_count": null,
   "id": "4ce4418e",
   "metadata": {},
   "outputs": [],
   "source": [
    "place_marker(test_board, '$', 8)\n",
    "display_board(test_board)"
   ]
  },
  {
   "cell_type": "code",
   "execution_count": null,
   "id": "de2e9697",
   "metadata": {},
   "outputs": [],
   "source": [
    "def win_check(board, mark):\n",
    "    \n",
    "    return ((board[7]==mark and board[8]==mark and board[9] == mark) or\n",
    "           (board[4]==mark and board[5]==mark and board[6] == mark) or\n",
    "           (board[1]==mark and board[2]==mark and board[3] == mark) or\n",
    "           (board[7]==mark and board[4]==mark and board[1] == mark) or\n",
    "           (board[8]==mark and board[5]==mark and board[2] == mark) or\n",
    "           (board[9]==mark and board[6]==mark and board[3] == mark) or\n",
    "           (board[7]==mark and board[5]==mark and board[3] == mark) or\n",
    "           (board[9]==mark and board[5]==mark and board[1] == mark))"
   ]
  },
  {
   "cell_type": "code",
   "execution_count": null,
   "id": "27cd98fd",
   "metadata": {},
   "outputs": [],
   "source": [
    "display_board(test_board)\n",
    "win_check(test_board,'X')"
   ]
  },
  {
   "cell_type": "code",
   "execution_count": null,
   "id": "8c0f2c6c",
   "metadata": {},
   "outputs": [],
   "source": [
    "import random\n",
    "def choose_first():\n",
    "    flip = random.randint(0,1)\n",
    "    if flip == 0:\n",
    "        return 'Player 1 '\n",
    "    else:\n",
    "        return 'Player 2 '"
   ]
  },
  {
   "cell_type": "code",
   "execution_count": null,
   "id": "4807d259",
   "metadata": {},
   "outputs": [],
   "source": [
    "def space_check(board, position):\n",
    "    return board[position] == ' '    "
   ]
  },
  {
   "cell_type": "code",
   "execution_count": null,
   "id": "8279dd39",
   "metadata": {},
   "outputs": [],
   "source": [
    "def full_board_check(board):\n",
    "    for i in range(1,10):\n",
    "        if space_check(board, i):\n",
    "            return False\n",
    "        \n",
    "    return True"
   ]
  },
  {
   "cell_type": "code",
   "execution_count": null,
   "id": "6289928b",
   "metadata": {},
   "outputs": [],
   "source": [
    "def player_choice(board):\n",
    "    position = 0\n",
    "    while position not in[1,2,3,4,5,6,7,8,9] or not space_check(board,position):\n",
    "        position = int(input('Choose a position: (1-9) '))\n",
    "    return position"
   ]
  },
  {
   "cell_type": "code",
   "execution_count": null,
   "id": "1e76edb1",
   "metadata": {},
   "outputs": [],
   "source": [
    "def replay():\n",
    "    choice=input(\"Play again? Enter Yes or No\")\n",
    "    return choice == 'Yes'"
   ]
  },
  {
   "cell_type": "code",
   "execution_count": null,
   "id": "f7a25d35",
   "metadata": {},
   "outputs": [],
   "source": [
    "#WHILE LOOP TO KEEP RUNNING THE GAME\n",
    "print('Welcome to Tic TAC TOE')\n",
    "\n",
    "while True:\n",
    "    \n",
    "    #PLAY THE GAME\n",
    "    \n",
    "    ##SET EVERYTHIN UP (BOARD, WHOS FIRST, CHOOSE MARKERS X,0)\n",
    "    \n",
    "    the_board = [' ']*10\n",
    "    player_marker,player2_marker = player_input()\n",
    "    \n",
    "    turn = choose_first()\n",
    "    print(turn + 'will go first')\n",
    "    \n",
    "    play_game = input('Ready to play y or n? ')\n",
    "    \n",
    "    if play_game == 'y':\n",
    "        game_on = True\n",
    "    else:\n",
    "        game_on = False\n",
    "    \n",
    "    \n",
    "    ##GAME PLAY\n",
    "    \n",
    "    while game_on:\n",
    "        \n",
    "        if turn == 'Player 1':\n",
    "            \n",
    "            #Show the board\n",
    "            display_board(the_board)\n",
    "            \n",
    "            #Choose a position\n",
    "            position = player_choice(the_board)\n",
    "            \n",
    "            #Place the market on the position\n",
    "            place_marker(the_board,player1_marker,position)\n",
    "            \n",
    "            #Check if they won\n",
    "            if win_check(the_board,player1_marker):\n",
    "                display_board(the_board)\n",
    "                print('PLAYER 1 HAS WON!')\n",
    "                game_on = False\n",
    "                \n",
    "            else:\n",
    "                if full_board_check(the_board):\n",
    "                    display_board(the_board)\n",
    "                    print(\"TIE GAME!\")\n",
    "                    game_on = False\n",
    "                    \n",
    "                else:\n",
    "                    turn = 'Player 2'\n",
    "\n",
    "        \n",
    "        else:\n",
    "            \n",
    "            #Show the board\n",
    "            display_board(the_board)\n",
    "            #Choose a position\n",
    "            position = player_choice(the_board)\n",
    "            #Place the market on the position\n",
    "            place_marker(the_board,player2_marker,position)\n",
    "            \n",
    "            #Check if they won\n",
    "            if win_check(the_board,player2_marker):\n",
    "                display_board(the_board)\n",
    "                print('PLAYER 2 HAS WON!')\n",
    "                game_on = False\n",
    "            else:\n",
    "                if full_board_check(the_board):\n",
    "                    display_board(the_board)\n",
    "                    print(\"TIE GAME!\")\n",
    "                    game_on = False\n",
    "                else:\n",
    "                    turn = 'Player 1'\n",
    "\n",
    "    \n",
    "    if not replay():\n",
    "        break\n",
    "\n",
    "\n",
    "    #BREAK OUT OF THE WHILE LOOP ON replay()"
   ]
  },
  {
   "cell_type": "code",
   "execution_count": null,
   "id": "611c6902",
   "metadata": {},
   "outputs": [],
   "source": []
  }
 ],
 "metadata": {
  "kernelspec": {
   "display_name": "Python 3 (ipykernel)",
   "language": "python",
   "name": "python3"
  },
  "language_info": {
   "codemirror_mode": {
    "name": "ipython",
    "version": 3
   },
   "file_extension": ".py",
   "mimetype": "text/x-python",
   "name": "python",
   "nbconvert_exporter": "python",
   "pygments_lexer": "ipython3",
   "version": "3.9.12"
  }
 },
 "nbformat": 4,
 "nbformat_minor": 5
}
